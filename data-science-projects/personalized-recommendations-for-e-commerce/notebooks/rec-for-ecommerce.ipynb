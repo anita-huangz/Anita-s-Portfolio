{
 "cells": [
  {
   "cell_type": "markdown",
   "metadata": {},
   "source": [
    "# 🛍️ Project: Personalized E-commerce Recommendations\n",
    "\n",
    "Goal: Predict whether a user will purchase a recommended item using classification, \n",
    "and rank items per user using scoring and validation tools."
   ]
  },
  {
   "cell_type": "code",
   "execution_count": 97,
   "metadata": {},
   "outputs": [],
   "source": [
    "import pandas as pd\n",
    "import numpy as np\n",
    "import ast\n",
    "import matplotlib.pyplot as plt\n",
    "import seaborn as sns\n",
    "\n",
    "from sklearn.model_selection import (\n",
    "    train_test_split, GridSearchCV, RandomizedSearchCV, cross_val_score,\n",
    "    learning_curve, permutation_test_score\n",
    ")\n",
    "from sklearn.preprocessing import LabelEncoder, StandardScaler, MultiLabelBinarizer\n",
    "from sklearn.ensemble import RandomForestRegressor, RandomForestClassifier\n",
    "from sklearn.dummy import DummyRegressor\n",
    "from sklearn.metrics import (\n",
    "    mean_squared_error, r2_score, classification_report, roc_auc_score,\n",
    "    precision_recall_curve, label_ranking_average_precision_score, ndcg_score\n",
    ")"
   ]
  },
  {
   "cell_type": "markdown",
   "metadata": {},
   "source": [
    "## 1. Load and clean data "
   ]
  },
  {
   "cell_type": "code",
   "execution_count": 98,
   "metadata": {},
   "outputs": [
    {
     "name": "stdout",
     "output_type": "stream",
     "text": [
      "Path to dataset files: /Users/anitahuang/.cache/kagglehub/datasets/suvroo/personalized-recommendations-for-e-commerce/versions/1\n"
     ]
    }
   ],
   "source": [
    "import kagglehub\n",
    "\n",
    "path = kagglehub.dataset_download(\"suvroo/personalized-recommendations-for-e-commerce\")\n",
    "\n",
    "print(\"Path to dataset files:\", path)"
   ]
  },
  {
   "cell_type": "code",
   "execution_count": 99,
   "metadata": {},
   "outputs": [],
   "source": [
    "customer_df = pd.read_csv('/Users/anitahuang/Anita-s-Portfolio/data-science-projects/personalized-recommendations-for-e-commerce/data/customer_data_collection.csv')\n",
    "product_df = pd.read_csv('/Users/anitahuang/Anita-s-Portfolio/data-science-projects/personalized-recommendations-for-e-commerce/data/product_recommendation_data.csv')"
   ]
  },
  {
   "cell_type": "code",
   "execution_count": 100,
   "metadata": {},
   "outputs": [],
   "source": [
    "# Drop unnecessary columns\n",
    "def drop_unnamed(df):\n",
    "    return df.drop(columns=[col for col in df.columns if \"Unnamed\" in col])\n",
    "\n",
    "customer_df = drop_unnamed(customer_df)\n",
    "product_df = drop_unnamed(product_df)"
   ]
  },
  {
   "cell_type": "markdown",
   "metadata": {},
   "source": [
    "# 2. Preprocessing\n",
    "\n",
    "We parse list strings to Python lists, label encode categorical variables, and one-hot encode browsing/purchase histories for modeling.\n"
   ]
  },
  {
   "cell_type": "code",
   "execution_count": 101,
   "metadata": {},
   "outputs": [],
   "source": [
    "for col in ['Browsing_History', 'Purchase_History']:\n",
    "    customer_df[col] = customer_df[col].apply(ast.literal_eval)\n",
    "product_df['Similar_Product_List'] = product_df['Similar_Product_List'].apply(ast.literal_eval)"
   ]
  },
  {
   "cell_type": "code",
   "execution_count": 8,
   "metadata": {},
   "outputs": [],
   "source": [
    "# Label encoding\n",
    "label_cols = ['Gender', 'Location', 'Customer_Segment', 'Holiday', 'Season']\n",
    "for col in label_cols:\n",
    "    customer_df[col] = LabelEncoder().fit_transform(customer_df[col])"
   ]
  },
  {
   "cell_type": "code",
   "execution_count": 9,
   "metadata": {},
   "outputs": [],
   "source": [
    "product_df[['Category', 'Subcategory', 'Brand', 'Holiday', 'Season', 'Geographical_Location']] = \\\n",
    "    product_df[['Category', 'Subcategory', 'Brand', 'Holiday', 'Season', 'Geographical_Location']].apply(LabelEncoder().fit_transform)"
   ]
  },
  {
   "cell_type": "code",
   "execution_count": 10,
   "metadata": {},
   "outputs": [],
   "source": [
    "# One-hot encode multi-label fields\n",
    "mlb = MultiLabelBinarizer()\n",
    "browsing_encoded = pd.DataFrame(mlb.fit_transform(customer_df['Browsing_History']),\n",
    "                                columns=[f'Browse_{c}' for c in mlb.classes_])\n",
    "purchase_encoded = pd.DataFrame(mlb.fit_transform(customer_df['Purchase_History']),\n",
    "                                columns=[f'Purchase_{c}' for c in mlb.classes_])\n",
    "customer_df = pd.concat([customer_df.drop(['Browsing_History', 'Purchase_History'], axis=1),\n",
    "                         browsing_encoded, purchase_encoded], axis=1)"
   ]
  },
  {
   "cell_type": "markdown",
   "metadata": {},
   "source": [
    "# 3. Merge customer and product samples\n",
    "This simulates 20,000 customer-product pairings for recommendation modeling.\n",
    "Each row now represents a recommendation scenario.\n"
   ]
  },
  {
   "cell_type": "code",
   "execution_count": 79,
   "metadata": {},
   "outputs": [],
   "source": [
    "import itertools\n",
    "import random\n",
    "import pandas as pd\n",
    "\n",
    "# Step 1: Sample customers and products\n",
    "customer_sample = customer_df.sample(n=200, random_state=42).reset_index(drop=True)\n",
    "product_sample = product_df.sample(n=100, random_state=42).reset_index(drop=True)\n",
    "\n",
    "# Step 2: Create all possible pairs\n",
    "pairs = list(itertools.product(customer_sample.index, product_sample.index))\n",
    "\n",
    "# Step 3: Random sample from all combinations\n",
    "random.seed(42)\n",
    "sampled_pairs = random.sample(pairs, k=5000)\n",
    "\n",
    "# Step 4: Combine into rows\n",
    "rows = []\n",
    "for cust_idx, prod_idx in sampled_pairs:\n",
    "    customer_row = customer_sample.loc[cust_idx].to_dict()\n",
    "    product_row = product_sample.loc[prod_idx].to_dict()\n",
    "\n",
    "    # Merge both dicts into one\n",
    "    combined = {**customer_row, **product_row}\n",
    "    rows.append(combined)\n",
    "\n",
    "# Step 5: Final merged DataFrame\n",
    "merged_df = pd.DataFrame.from_records(rows)"
   ]
  },
  {
   "cell_type": "markdown",
   "metadata": {},
   "source": [
    "# 4. Classification Setup – Binary Prediction \n",
    "\n",
    "We turn the continuous recommendation probability into a binary target for classification, and standardize the features.\n",
    "\n",
    "To predict whether a user would recommend a product or not, based on:\n",
    "* Their browsing + purchase behavior\n",
    "* The product’s attributes\n",
    "\n",
    "Therefore, we need build a binary classifier to answer:\n",
    "\n",
    "“Would this customer likely recommend this product (yes or no)?”"
   ]
  },
  {
   "cell_type": "code",
   "execution_count": 87,
   "metadata": {},
   "outputs": [],
   "source": [
    "merged_df['Recommend_Class'] = (merged_df['Probability_of_Recommendation'] >= 0.5).astype(int)\n",
    "# creates a new binary column in merged_df called 'Recommend_Class'\n",
    "# If a product's Probability_of_Recommendation is greater than or equal to 0.5, it becomes: 1 (meaning recommend)\n",
    "# Otherwise: 0 (meaning do not recommend)\n",
    "\n",
    "\n",
    "X_class = merged_df.drop([\n",
    "    'Customer_ID', 'Product_ID', 'Probability_of_Recommendation', 'Recommend_Class',  'Similar_Product_List'\n",
    "], axis=1)\n",
    "\n",
    "y_class = merged_df['Recommend_Class']\n",
    "\n",
    "X_train_c, X_test_c, y_train_c, y_test_c = train_test_split(X_class, y_class, test_size=0.2, random_state=42)\n",
    "scaler_c = StandardScaler()\n",
    "X_train_c = scaler_c.fit_transform(X_train_c)\n",
    "X_test_c = scaler_c.transform(X_test_c)"
   ]
  },
  {
   "cell_type": "code",
   "execution_count": 80,
   "metadata": {},
   "outputs": [
    {
     "name": "stdout",
     "output_type": "stream",
     "text": [
      "Train customers: 160\n",
      "Test customers : 40\n",
      "Overlap        : 0\n"
     ]
    }
   ],
   "source": [
    "# from sklearn.model_selection import GroupShuffleSplit\n",
    "\n",
    "# merged_df['Recommend_Class'] = (merged_df['Probability_of_Recommendation'] >= 0.5).astype(int)\n",
    "# # creates a new binary column in merged_df called 'Recommend_Class'\n",
    "# # If a product's Probability_of_Recommendation is greater than or equal to 0.5, it becomes: 1 (meaning recommend)\n",
    "# # Otherwise: 0 (meaning do not recommend)\n",
    "\n",
    "# from sklearn.model_selection import GroupShuffleSplit\n",
    "\n",
    "# # Define features and target\n",
    "# X = merged_df.drop([\n",
    "#     'Customer_ID', 'Product_ID', 'Probability_of_Recommendation',\n",
    "#     'Recommend_Class', 'Similar_Product_List'\n",
    "# ], axis=1)\n",
    "# y_class = merged_df['Recommend_Class']\n",
    "# groups = merged_df['Customer_ID']  # use customers as the group\n",
    "\n",
    "# # Group-based split\n",
    "# gss = GroupShuffleSplit(n_splits=1, test_size=0.2, random_state=42)\n",
    "# train_idx, test_idx = next(gss.split(X, y_class, groups=groups))\n",
    "\n",
    "# # Subset\n",
    "# X_train_c = X.iloc[train_idx]\n",
    "# X_test_c = X.iloc[test_idx]\n",
    "# y_train_c = y_class.iloc[train_idx]\n",
    "# y_test_c = y_class.iloc[test_idx]\n",
    "\n",
    "# # Confirm no leakage\n",
    "# print(\"Train customers:\", merged_df.iloc[train_idx]['Customer_ID'].nunique())\n",
    "# print(\"Test customers :\", merged_df.iloc[test_idx]['Customer_ID'].nunique())\n",
    "# print(\"Overlap        :\", len(set(merged_df.iloc[train_idx]['Customer_ID']) & set(merged_df.iloc[test_idx]['Customer_ID'])))"
   ]
  },
  {
   "cell_type": "code",
   "execution_count": 88,
   "metadata": {},
   "outputs": [
    {
     "data": {
      "text/plain": [
       "Probability_of_Recommendation         1.000000\n",
       "Recommend_Class                       0.881255\n",
       "Geographical_Location                 0.229292\n",
       "Category                              0.165406\n",
       "Subcategory                           0.149802\n",
       "Customer_Review_Sentiment_Score       0.083640\n",
       "Brand                                 0.047601\n",
       "Season                                0.038591\n",
       "Browse_Fitness                        0.029724\n",
       "Purchase_Dumbbells                    0.021243\n",
       "Purchase_Foundation                   0.020639\n",
       "Purchase_Shoes                        0.015040\n",
       "Purchase_Yoga Mat                     0.012351\n",
       "Browse_Books                          0.012021\n",
       "Avg_Order_Value                       0.009722\n",
       "Purchase_Wall Art                     0.009596\n",
       "Purchase_Resistance Bands             0.009286\n",
       "Purchase_Treadmill                    0.009238\n",
       "Purchase_Fiction                      0.009217\n",
       "Gender                                0.007207\n",
       "Purchase_Lipstick                     0.006444\n",
       "Purchase_Laptop                       0.006356\n",
       "Purchase_Comics                       0.005722\n",
       "Purchase_Biography                    0.005345\n",
       "Browse_Fashion                        0.005235\n",
       "Customer_Segment                      0.004584\n",
       "Purchase_T-shirt                      0.001535\n",
       "Browse_Beauty                         0.000279\n",
       "Purchase_Non-fiction                  0.000068\n",
       "Purchase_Jeans                        0.000045\n",
       "Average_Rating_of_Similar_Products   -0.002563\n",
       "Purchase_Perfume                     -0.003657\n",
       "Purchase_Cushions                    -0.003830\n",
       "Purchase_Smartphone                  -0.005762\n",
       "Purchase_Headphones                  -0.005937\n",
       "Location                             -0.006482\n",
       "Browse_Home Decor                    -0.007325\n",
       "Purchase_Lamp                        -0.008037\n",
       "Purchase_Curtains                    -0.011581\n",
       "Browse_Electronics                   -0.013202\n",
       "Purchase_Jacket                      -0.014521\n",
       "Purchase_Smartwatch                  -0.016384\n",
       "Age                                  -0.018595\n",
       "Purchase_Moisturizer                 -0.020025\n",
       "Product_Rating                       -0.039844\n",
       "Holiday                              -0.067408\n",
       "Price                                -0.153414\n",
       "Name: Probability_of_Recommendation, dtype: float64"
      ]
     },
     "execution_count": 88,
     "metadata": {},
     "output_type": "execute_result"
    }
   ],
   "source": [
    "correlations = merged_df.drop(['Customer_ID', 'Product_ID', 'Similar_Product_List'], axis=1).corr()\n",
    "correlations['Probability_of_Recommendation'].sort_values(ascending=False)"
   ]
  },
  {
   "cell_type": "code",
   "execution_count": 89,
   "metadata": {},
   "outputs": [
    {
     "data": {
      "text/plain": [
       "Gender                0.007207\n",
       "Location             -0.006482\n",
       "Customer_Segment      0.004584\n",
       "Avg_Order_Value       0.009722\n",
       "Holiday              -0.067408\n",
       "Season                0.038591\n",
       "Browse_Beauty         0.000279\n",
       "Browse_Books          0.012021\n",
       "Browse_Electronics   -0.013202\n",
       "Name: Probability_of_Recommendation, dtype: float64"
      ]
     },
     "execution_count": 89,
     "metadata": {},
     "output_type": "execute_result"
    }
   ],
   "source": [
    "correlations['Probability_of_Recommendation'][1:10]"
   ]
  },
  {
   "cell_type": "code",
   "execution_count": 90,
   "metadata": {},
   "outputs": [
    {
     "name": "stdout",
     "output_type": "stream",
     "text": [
      "Unique probabilities:\n",
      "[0.18 0.97 0.43 0.3  0.35 0.28 0.14 0.12 0.69 0.79 0.94 0.17 0.11 0.87\n",
      " 0.4  0.91 0.21 0.15 0.56 0.42 0.29 0.92 0.75 0.98 0.52 0.19 0.99 0.45\n",
      " 0.33 0.13 0.68 0.82 0.67 0.88 0.72 0.26 0.36 0.89 0.83 0.63 0.85 0.71\n",
      " 0.49 0.31 0.81 0.86 0.77 0.95 0.54 0.84 0.93 0.7  0.44 0.61 0.24 0.64\n",
      " 0.53 0.62 0.34 1.   0.16]\n"
     ]
    }
   ],
   "source": [
    "print(\"Unique probabilities:\")\n",
    "print(merged_df['Probability_of_Recommendation'].unique())\n"
   ]
  },
  {
   "cell_type": "code",
   "execution_count": 91,
   "metadata": {},
   "outputs": [
    {
     "name": "stdout",
     "output_type": "stream",
     "text": [
      "Cross-validated ROC AUC scores (Classifier): [1. 1. 1. 1. 1.]\n",
      "Mean CV ROC AUC: 1.0\n"
     ]
    }
   ],
   "source": [
    "# Cross-validation for classifier\n",
    "clf_cv_scores = cross_val_score(RandomForestClassifier(), X_train_c, y_train_c, cv=5, scoring='roc_auc')\n",
    "print(\"Cross-validated ROC AUC scores (Classifier):\", clf_cv_scores)\n",
    "print(\"Mean CV ROC AUC:\", np.mean(clf_cv_scores))"
   ]
  },
  {
   "cell_type": "markdown",
   "metadata": {},
   "source": [
    "## 4.1. Tuning the Decision Threshold (Classification)\n",
    "\n",
    "We use the precision-recall curve to inspect tradeoffs and visualize how changing the threshold affects performance.\n",
    "\n",
    "**Objective**: \n",
    "Predict whether a customer will recommend a product based on browsing history, purchase behavior, and product attributes.\n",
    "\n",
    "**Model Evaluation Highlights**:\n",
    "- Model Used: Random Forest Classifier\n",
    "- Data: 4,000 customer-product pairings (simulated from merged dataset)\n",
    "- Target: Binary recommendation class (1 = Recommend, 0 = Not Recommend)"
   ]
  },
  {
   "cell_type": "code",
   "execution_count": 92,
   "metadata": {},
   "outputs": [
    {
     "data": {
      "image/png": "[encoded data removed]",
      "text/plain": [
       "<Figure size 640x480 with 1 Axes>"
      ]
     },
     "metadata": {},
     "output_type": "display_data"
    },
    {
     "name": "stdout",
     "output_type": "stream",
     "text": [
      "\n",
      "Classification Report:\n",
      "               precision    recall  f1-score   support\n",
      "\n",
      "           0       1.00      1.00      1.00       447\n",
      "           1       1.00      1.00      1.00       553\n",
      "\n",
      "    accuracy                           1.00      1000\n",
      "   macro avg       1.00      1.00      1.00      1000\n",
      "weighted avg       1.00      1.00      1.00      1000\n",
      "\n",
      "ROC AUC Score: 1.0\n"
     ]
    }
   ],
   "source": [
    "clf = RandomForestClassifier()\n",
    "clf.fit(X_train_c, y_train_c) # train this model as a binary classifier with RandomForestClassifier()\n",
    "y_probs = clf.predict_proba(X_test_c)[:, 1]\n",
    "\n",
    "precision, recall, thresholds = precision_recall_curve(y_test_c, y_probs)\n",
    "plt.plot(thresholds, precision[:-1], label='Precision')\n",
    "plt.plot(thresholds, recall[:-1], label='Recall')\n",
    "plt.xlabel('Threshold')\n",
    "plt.ylabel('Score')\n",
    "plt.title('Precision-Recall vs Threshold')\n",
    "plt.legend()\n",
    "plt.grid()\n",
    "plt.show()\n",
    "\n",
    "# Evaluate at default threshold = 0.5\n",
    "y_pred_c = clf.predict(X_test_c)\n",
    "print(\"\\nClassification Report:\\n\", classification_report(y_test_c, y_pred_c))\n",
    "print(\"ROC AUC Score:\", roc_auc_score(y_test_c, y_probs))\n"
   ]
  },
  {
   "cell_type": "markdown",
   "metadata": {},
   "source": [
    "**🔍 Threshold Analysis**\n",
    "- Precision and recall curves are both very high across most thresholds.\n",
    "- The default threshold of 0.5 yields perfect performance, indicating strong model confidence.\n",
    "- The curve shape suggests well-separated class probabilities, meaning the model is highly certain in its predictions."
   ]
  },
  {
   "cell_type": "code",
   "execution_count": 96,
   "metadata": {},
   "outputs": [
    {
     "name": "stdout",
     "output_type": "stream",
     "text": [
      "    Prediction_Probability  Predicted_Label  Count\n",
      "30                    1.00                1    102\n",
      "29                    0.99                1    102\n",
      "28                    0.98                1     95\n",
      "27                    0.97                1     70\n",
      "26                    0.96                1     51\n",
      "25                    0.95                1     45\n",
      "24                    0.94                1     25\n",
      "23                    0.93                1     26\n",
      "22                    0.92                1     12\n",
      "21                    0.91                1     10\n"
     ]
    }
   ],
   "source": [
    "# Create a results DataFrame to inspect predictions\n",
    "results_df = pd.DataFrame({\n",
    "    'Predicted_Label': y_pred_c,\n",
    "    'True_Label': y_test_c.values,\n",
    "    'Prediction_Probability': y_probs\n",
    "})\n",
    "\n",
    "# Sort by prediction probability (optional)\n",
    "results_df = results_df.sort_values(by='Prediction_Probability', ascending=False)\n",
    "\n",
    "# # View top results\n",
    "# results_df.head(100)\n",
    "\n",
    "grouped = results_df.groupby(['Prediction_Probability', 'Predicted_Label']).size().reset_index(name='Count')\n",
    "grouped = grouped.sort_values(by='Prediction_Probability', ascending=False)\n",
    "\n",
    "# View top rows\n",
    "print(grouped.head(10))\n"
   ]
  },
  {
   "cell_type": "markdown",
   "metadata": {},
   "source": [
    "# 4.2. Multilabel Ranking Metrics \n",
    "\n",
    "**🎯 Goal:**\n",
    "Evaluate how well the model ranks products by their predicted likelihood of being recommended, rather than just predicting a binary outcome.\n",
    "\n",
    "**🛠️ What the Code Does:**\n",
    "\n",
    "Simulates a ranking task by selecting the first 10 product-customer pairs.\n",
    "Creates:\n",
    "- y_true_rank: actual recommendation outcomes (1 = relevant, 0 = not relevant)\n",
    "- y_score_rank: predicted probabilities of recommendation from the model\n",
    "\n",
    "Feeds these into two ranking evaluation metrics:\n",
    "- label_ranking_average_precision_score\n",
    "- ndcg_score (Normalized Discounted Cumulative Gain)"
   ]
  },
  {
   "cell_type": "code",
   "execution_count": 23,
   "metadata": {},
   "outputs": [
    {
     "name": "stdout",
     "output_type": "stream",
     "text": [
      "Label Ranking Average Precision Score: 1.0\n",
      "NDCG Score: 0.9999999999999999\n"
     ]
    }
   ],
   "source": [
    "# Simulated relevance + scores from first 10 predictions\n",
    "y_true_rank = np.tile((merged_df['Recommend_Class'].values[:10] == 1).astype(int), (1, 1))\n",
    "y_score_rank = np.tile(merged_df['Probability_of_Recommendation'].values[:10], (1, 1))\n",
    "\n",
    "print(\"Label Ranking Average Precision Score:\", label_ranking_average_precision_score(y_true_rank, y_score_rank))\n",
    "print(\"NDCG Score:\", ndcg_score(y_true_rank, y_score_rank))"
   ]
  },
  {
   "cell_type": "code",
   "execution_count": 24,
   "metadata": {},
   "outputs": [
    {
     "data": {
      "text/html": [
       "<div>\n",
       "<style scoped>\n",
       "    .dataframe tbody tr th:only-of-type {\n",
       "        vertical-align: middle;\n",
       "    }\n",
       "\n",
       "    .dataframe tbody tr th {\n",
       "        vertical-align: top;\n",
       "    }\n",
       "\n",
       "    .dataframe thead th {\n",
       "        text-align: right;\n",
       "    }\n",
       "</style>\n",
       "<table border=\"1\" class=\"dataframe\">\n",
       "  <thead>\n",
       "    <tr style=\"text-align: right;\">\n",
       "      <th></th>\n",
       "      <th>Product_ID</th>\n",
       "      <th>Probability_of_Recommendation</th>\n",
       "      <th>Recommend_Class</th>\n",
       "    </tr>\n",
       "  </thead>\n",
       "  <tbody>\n",
       "    <tr>\n",
       "      <th>59</th>\n",
       "      <td>P2059</td>\n",
       "      <td>0.99</td>\n",
       "      <td>1</td>\n",
       "    </tr>\n",
       "    <tr>\n",
       "      <th>38</th>\n",
       "      <td>P2038</td>\n",
       "      <td>0.96</td>\n",
       "      <td>1</td>\n",
       "    </tr>\n",
       "    <tr>\n",
       "      <th>41</th>\n",
       "      <td>P2041</td>\n",
       "      <td>0.96</td>\n",
       "      <td>1</td>\n",
       "    </tr>\n",
       "    <tr>\n",
       "      <th>75</th>\n",
       "      <td>P2075</td>\n",
       "      <td>0.95</td>\n",
       "      <td>1</td>\n",
       "    </tr>\n",
       "    <tr>\n",
       "      <th>89</th>\n",
       "      <td>P2089</td>\n",
       "      <td>0.94</td>\n",
       "      <td>1</td>\n",
       "    </tr>\n",
       "  </tbody>\n",
       "</table>\n",
       "</div>"
      ],
      "text/plain": [
       "   Product_ID  Probability_of_Recommendation  Recommend_Class\n",
       "59      P2059                           0.99                1\n",
       "38      P2038                           0.96                1\n",
       "41      P2041                           0.96                1\n",
       "75      P2075                           0.95                1\n",
       "89      P2089                           0.94                1"
      ]
     },
     "execution_count": 24,
     "metadata": {},
     "output_type": "execute_result"
    }
   ],
   "source": [
    "# Select first customer from merged_df\n",
    "customer_id = merged_df.iloc[0]['Customer_ID']\n",
    "\n",
    "# Filter only rows belonging to that customer\n",
    "customer_products = merged_df[merged_df['Customer_ID'] == customer_id]\n",
    "\n",
    "# Sort by predicted probability (high to low)\n",
    "ranked_products = customer_products.sort_values(by='Probability_of_Recommendation', ascending=False)\n",
    "\n",
    "# Show top 5\n",
    "ranked_products[['Product_ID', 'Probability_of_Recommendation', 'Recommend_Class']].head(5)"
   ]
  },
  {
   "cell_type": "code",
   "execution_count": 25,
   "metadata": {},
   "outputs": [
    {
     "data": {
      "text/html": [
       "<div>\n",
       "<style scoped>\n",
       "    .dataframe tbody tr th:only-of-type {\n",
       "        vertical-align: middle;\n",
       "    }\n",
       "\n",
       "    .dataframe tbody tr th {\n",
       "        vertical-align: top;\n",
       "    }\n",
       "\n",
       "    .dataframe thead th {\n",
       "        text-align: right;\n",
       "    }\n",
       "</style>\n",
       "<table border=\"1\" class=\"dataframe\">\n",
       "  <thead>\n",
       "    <tr style=\"text-align: right;\">\n",
       "      <th></th>\n",
       "      <th>Customer_ID</th>\n",
       "      <th>Product_ID</th>\n",
       "      <th>Probability_of_Recommendation</th>\n",
       "    </tr>\n",
       "  </thead>\n",
       "  <tbody>\n",
       "    <tr>\n",
       "      <th>59</th>\n",
       "      <td>C1000</td>\n",
       "      <td>P2059</td>\n",
       "      <td>0.99</td>\n",
       "    </tr>\n",
       "    <tr>\n",
       "      <th>38</th>\n",
       "      <td>C1000</td>\n",
       "      <td>P2038</td>\n",
       "      <td>0.96</td>\n",
       "    </tr>\n",
       "    <tr>\n",
       "      <th>41</th>\n",
       "      <td>C1000</td>\n",
       "      <td>P2041</td>\n",
       "      <td>0.96</td>\n",
       "    </tr>\n",
       "    <tr>\n",
       "      <th>159</th>\n",
       "      <td>C1001</td>\n",
       "      <td>P2059</td>\n",
       "      <td>0.99</td>\n",
       "    </tr>\n",
       "    <tr>\n",
       "      <th>138</th>\n",
       "      <td>C1001</td>\n",
       "      <td>P2038</td>\n",
       "      <td>0.96</td>\n",
       "    </tr>\n",
       "    <tr>\n",
       "      <th>...</th>\n",
       "      <td>...</td>\n",
       "      <td>...</td>\n",
       "      <td>...</td>\n",
       "    </tr>\n",
       "    <tr>\n",
       "      <th>19838</th>\n",
       "      <td>C1198</td>\n",
       "      <td>P2038</td>\n",
       "      <td>0.96</td>\n",
       "    </tr>\n",
       "    <tr>\n",
       "      <th>19841</th>\n",
       "      <td>C1198</td>\n",
       "      <td>P2041</td>\n",
       "      <td>0.96</td>\n",
       "    </tr>\n",
       "    <tr>\n",
       "      <th>19959</th>\n",
       "      <td>C1199</td>\n",
       "      <td>P2059</td>\n",
       "      <td>0.99</td>\n",
       "    </tr>\n",
       "    <tr>\n",
       "      <th>19938</th>\n",
       "      <td>C1199</td>\n",
       "      <td>P2038</td>\n",
       "      <td>0.96</td>\n",
       "    </tr>\n",
       "    <tr>\n",
       "      <th>19941</th>\n",
       "      <td>C1199</td>\n",
       "      <td>P2041</td>\n",
       "      <td>0.96</td>\n",
       "    </tr>\n",
       "  </tbody>\n",
       "</table>\n",
       "<p>600 rows × 3 columns</p>\n",
       "</div>"
      ],
      "text/plain": [
       "      Customer_ID Product_ID  Probability_of_Recommendation\n",
       "59          C1000      P2059                           0.99\n",
       "38          C1000      P2038                           0.96\n",
       "41          C1000      P2041                           0.96\n",
       "159         C1001      P2059                           0.99\n",
       "138         C1001      P2038                           0.96\n",
       "...           ...        ...                            ...\n",
       "19838       C1198      P2038                           0.96\n",
       "19841       C1198      P2041                           0.96\n",
       "19959       C1199      P2059                           0.99\n",
       "19938       C1199      P2038                           0.96\n",
       "19941       C1199      P2041                           0.96\n",
       "\n",
       "[600 rows x 3 columns]"
      ]
     },
     "execution_count": 25,
     "metadata": {},
     "output_type": "execute_result"
    }
   ],
   "source": [
    "# Sort by customer and descending probability\n",
    "ranked_all = merged_df.sort_values(by=['Customer_ID', 'Probability_of_Recommendation'], ascending=[True, False])\n",
    "\n",
    "# Get top 3 recommendations per customer\n",
    "top3_per_customer = ranked_all.groupby('Customer_ID').head(3)\n",
    "\n",
    "# View the results\n",
    "top3_per_customer[['Customer_ID', 'Product_ID', 'Probability_of_Recommendation']]"
   ]
  },
  {
   "cell_type": "markdown",
   "metadata": {},
   "source": [
    "# 6. Regression Setup – Predicting Recommendation Probability\n",
    "\n",
    "**🎯 Objective:**\n",
    "Transform the recommendation task into a regression problem by directly predicting the continuous variable Probability_of_Recommendation (a value between 0 and 1), rather than just predicting a binary “yes” or “no”.\n",
    "\n",
    "**🛠️ What the Code Does:**\n",
    "1. Feature and Target Selection\n",
    "2. Train-Test Split \n",
    "3. Feature Scaling\n",
    "\n",
    "**📈 Why This Matters:**\n",
    "- Regression provides a more granular prediction: instead of binary yes/no, the model can rank products by how likely they are to be recommended.\n",
    "- These scores are ideal for use cases like top-N recommendation lists, product rankings, or personalized scoring.\n"
   ]
  },
  {
   "cell_type": "code",
   "execution_count": 69,
   "metadata": {},
   "outputs": [],
   "source": [
    "X = merged_df.drop(['Customer_ID', 'Product_ID', 'Probability_of_Recommendation', 'Similar_Product_List'], axis=1)\n",
    "y = merged_df['Probability_of_Recommendation']\n",
    "\n",
    "X_train, X_test, y_train, y_test = train_test_split(X, y, test_size=0.2, random_state=42)\n",
    "scaler = StandardScaler()\n",
    "# Standardizes the features so they all have mean 0 and standard deviation 1\n",
    "X_train_scaled = scaler.fit_transform(X_train)\n",
    "X_test_scaled = scaler.transform(X_test)"
   ]
  },
  {
   "cell_type": "code",
   "execution_count": 70,
   "metadata": {},
   "outputs": [
    {
     "name": "stdout",
     "output_type": "stream",
     "text": [
      "Cross-validated R2 scores (Regressor): [1. 1. 1. 1. 1.]\n",
      "Mean CV R2: 1.0\n"
     ]
    }
   ],
   "source": [
    "# Cross-validation for regressor\n",
    "reg_cv_scores = cross_val_score(RandomForestRegressor(), X_train_scaled, y_train, cv=5, scoring='r2')\n",
    "print(\"Cross-validated R2 scores (Regressor):\", reg_cv_scores)\n",
    "print(\"Mean CV R2:\", np.mean(reg_cv_scores))"
   ]
  },
  {
   "cell_type": "code",
   "execution_count": 34,
   "metadata": {},
   "outputs": [
    {
     "name": "stdout",
     "output_type": "stream",
     "text": [
      "R² Score: 1.0\n",
      "RMSE: 9.835508967892058e-16\n"
     ]
    }
   ],
   "source": [
    "# Train regressor\n",
    "regressor = RandomForestRegressor()\n",
    "regressor.fit(X_train_scaled, y_train)\n",
    "\n",
    "y_pred = regressor.predict(X_test_scaled)\n",
    "\n",
    "# Evaluate\n",
    "from sklearn.metrics import r2_score, root_mean_squared_error\n",
    "\n",
    "print(\"R² Score:\", r2_score(y_test, y_pred))\n",
    "print(\"RMSE:\", root_mean_squared_error(y_test, y_pred))"
   ]
  },
  {
   "cell_type": "code",
   "execution_count": 35,
   "metadata": {},
   "outputs": [
    {
     "data": {
      "image/png": "[encoded data removed]",
      "text/plain": [
       "<Figure size 600x600 with 1 Axes>"
      ]
     },
     "metadata": {},
     "output_type": "display_data"
    }
   ],
   "source": [
    "import matplotlib.pyplot as plt\n",
    "\n",
    "plt.figure(figsize=(6, 6))\n",
    "plt.scatter(y_test, y_pred, alpha=0.3)\n",
    "plt.plot([0, 1], [0, 1], 'r--')  # Diagonal reference line\n",
    "plt.xlabel(\"Actual Probability\")\n",
    "plt.ylabel(\"Predicted Probability\")\n",
    "plt.title(\"Actual vs Predicted Recommendation Probability\")\n",
    "plt.grid()\n",
    "plt.show()"
   ]
  },
  {
   "cell_type": "code",
   "execution_count": 36,
   "metadata": {},
   "outputs": [
    {
     "data": {
      "text/html": [
       "<div>\n",
       "<style scoped>\n",
       "    .dataframe tbody tr th:only-of-type {\n",
       "        vertical-align: middle;\n",
       "    }\n",
       "\n",
       "    .dataframe tbody tr th {\n",
       "        vertical-align: top;\n",
       "    }\n",
       "\n",
       "    .dataframe thead th {\n",
       "        text-align: right;\n",
       "    }\n",
       "</style>\n",
       "<table border=\"1\" class=\"dataframe\">\n",
       "  <thead>\n",
       "    <tr style=\"text-align: right;\">\n",
       "      <th></th>\n",
       "      <th>Actual</th>\n",
       "      <th>Predicted</th>\n",
       "    </tr>\n",
       "  </thead>\n",
       "  <tbody>\n",
       "    <tr>\n",
       "      <th>0</th>\n",
       "      <td>0.1</td>\n",
       "      <td>0.1</td>\n",
       "    </tr>\n",
       "    <tr>\n",
       "      <th>1</th>\n",
       "      <td>0.1</td>\n",
       "      <td>0.1</td>\n",
       "    </tr>\n",
       "    <tr>\n",
       "      <th>2</th>\n",
       "      <td>0.1</td>\n",
       "      <td>0.1</td>\n",
       "    </tr>\n",
       "    <tr>\n",
       "      <th>3</th>\n",
       "      <td>0.1</td>\n",
       "      <td>0.1</td>\n",
       "    </tr>\n",
       "    <tr>\n",
       "      <th>4</th>\n",
       "      <td>0.1</td>\n",
       "      <td>0.1</td>\n",
       "    </tr>\n",
       "    <tr>\n",
       "      <th>5</th>\n",
       "      <td>0.1</td>\n",
       "      <td>0.1</td>\n",
       "    </tr>\n",
       "    <tr>\n",
       "      <th>6</th>\n",
       "      <td>0.1</td>\n",
       "      <td>0.1</td>\n",
       "    </tr>\n",
       "    <tr>\n",
       "      <th>7</th>\n",
       "      <td>0.1</td>\n",
       "      <td>0.1</td>\n",
       "    </tr>\n",
       "    <tr>\n",
       "      <th>8</th>\n",
       "      <td>0.1</td>\n",
       "      <td>0.1</td>\n",
       "    </tr>\n",
       "    <tr>\n",
       "      <th>9</th>\n",
       "      <td>0.1</td>\n",
       "      <td>0.1</td>\n",
       "    </tr>\n",
       "  </tbody>\n",
       "</table>\n",
       "</div>"
      ],
      "text/plain": [
       "   Actual  Predicted\n",
       "0     0.1        0.1\n",
       "1     0.1        0.1\n",
       "2     0.1        0.1\n",
       "3     0.1        0.1\n",
       "4     0.1        0.1\n",
       "5     0.1        0.1\n",
       "6     0.1        0.1\n",
       "7     0.1        0.1\n",
       "8     0.1        0.1\n",
       "9     0.1        0.1"
      ]
     },
     "execution_count": 36,
     "metadata": {},
     "output_type": "execute_result"
    }
   ],
   "source": [
    "import pandas as pd\n",
    "\n",
    "results_df = pd.DataFrame({\n",
    "    \"Actual\": y_test.values,\n",
    "    \"Predicted\": y_pred\n",
    "})\n",
    "\n",
    "# Sort by Actual or Predicted for readability\n",
    "results_df = results_df.sort_values(by=\"Actual\").reset_index(drop=True)\n",
    "\n",
    "# View top 10\n",
    "results_df.head(10)"
   ]
  },
  {
   "cell_type": "code",
   "execution_count": 37,
   "metadata": {},
   "outputs": [
    {
     "data": {
      "image/png": "[encoded data removed]",
      "text/plain": [
       "<Figure size 600x400 with 1 Axes>"
      ]
     },
     "metadata": {},
     "output_type": "display_data"
    }
   ],
   "source": [
    "residuals = y_test - y_pred\n",
    "\n",
    "plt.figure(figsize=(6, 4))\n",
    "plt.scatter(y_pred, residuals, alpha=0.3)\n",
    "plt.axhline(0, color='red', linestyle='--')\n",
    "plt.xlabel(\"Predicted Probability\")\n",
    "plt.ylabel(\"Residual (Actual - Predicted)\")\n",
    "plt.title(\"Residuals vs Predicted\")\n",
    "plt.grid()\n",
    "plt.show()"
   ]
  },
  {
   "cell_type": "code",
   "execution_count": null,
   "metadata": {},
   "outputs": [],
   "source": []
  }
 ],
 "metadata": {
  "kernelspec": {
   "display_name": "Python 3",
   "language": "python",
   "name": "python3"
  },
  "language_info": {
   "codemirror_mode": {
    "name": "ipython",
    "version": 3
   },
   "file_extension": ".py",
   "mimetype": "text/x-python",
   "name": "python",
   "nbconvert_exporter": "python",
   "pygments_lexer": "ipython3",
   "version": "3.10.6"
  }
 },
 "nbformat": 4,
 "nbformat_minor": 2
}
